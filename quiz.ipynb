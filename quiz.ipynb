{
  "nbformat": 4,
  "nbformat_minor": 0,
  "metadata": {
    "colab": {
      "name": "quiz.ipynb",
      "version": "0.3.2",
      "provenance": [],
      "include_colab_link": true
    },
    "kernelspec": {
      "name": "python3",
      "display_name": "Python 3"
    }
  },
  "cells": [
    {
      "cell_type": "markdown",
      "metadata": {
        "id": "view-in-github",
        "colab_type": "text"
      },
      "source": [
        "<a href=\"https://colab.research.google.com/github/cdsjatin/britecore/blob/master/quiz.ipynb\" target=\"_parent\"><img src=\"https://colab.research.google.com/assets/colab-badge.svg\" alt=\"Open In Colab\"/></a>"
      ]
    },
    {
      "metadata": {
        "id": "4e0kWxn2c8Xm",
        "colab_type": "code",
        "colab": {}
      },
      "cell_type": "code",
      "source": [
        "a = [ 104, 116, 116, 112, 115, 58, 47, 47, 101, 110, 103, 105, 110, 101, 101, 114, 105, 110, 103, 45, 97, 112, 112, 108, 105, 99, 97, 116, 105, 111, 110, 46, 98, 114, 105, 116, 101, 99, 111, 114, 101, 46, 99, 111, 109, 47, 113, 117, 105, 122, 47, 105, 112, 108, 115, 106, 102, 107, 102, 107, 114, 111, 100, 115, 101, 101, 103, 103 ]"
      ],
      "execution_count": 0,
      "outputs": []
    },
    {
      "metadata": {
        "id": "uy9_au9odK3I",
        "colab_type": "code",
        "colab": {
          "base_uri": "https://localhost:8080/",
          "height": 34
        },
        "outputId": "0cf99723-9041-4c6e-eb6b-1ba59ea278a6"
      },
      "cell_type": "code",
      "source": [
        "print(\"\".join([chr(i) for i in a]))"
      ],
      "execution_count": 7,
      "outputs": [
        {
          "output_type": "stream",
          "text": [
            "https://engineering-application.britecore.com/quiz/iplsjfkfkrodseegg\n"
          ],
          "name": "stdout"
        }
      ]
    },
    {
      "metadata": {
        "id": "sWXgyCWPdV3W",
        "colab_type": "code",
        "colab": {
          "base_uri": "https://localhost:8080/",
          "height": 34
        },
        "outputId": "20f73238-5a9b-4514-aa13-df2300007ed3"
      },
      "cell_type": "code",
      "source": [
        "from cryptography.fernet import Fernet\n",
        "\n",
        "key = 'TluxwB3fV_GWuLkR1_BzGs1Zk90TYAuhNMZP_0q4WyM='\n",
        "\n",
        "# Oh no! The code is going over the edge! What are you going to do?\n",
        "message = b'gAAAAABb4OK2Qr4DaMfIa2_3DwRNw-BbThDk8WUcc7gpjFC6wjm8PGN5G4IiJQbUqoLHgwOe000Z0eGxnLrfRksEL0MaVGHANhXNd3TFBrdE1HGMxbuzubx2eH43n92XCQKiZM7T2C1fniUxKUcupCOsR3vD-lTLTrfq5fTZBIWPBm6W41B7nR0='\n",
        "\n",
        "def main():\n",
        "    f = Fernet(key)\n",
        "    print(f.decrypt(message))\n",
        "\n",
        "\n",
        "if __name__ != \"__main__\":\n",
        "    man()\n",
        "else:\n",
        "  main()"
      ],
      "execution_count": 19,
      "outputs": [
        {
          "output_type": "stream",
          "text": [
            "b'https://engineering-application.britecore.com/t6e118s10t/ImplementationEngineer'\n"
          ],
          "name": "stdout"
        }
      ]
    },
    {
      "metadata": {
        "id": "-fF_J44tduzm",
        "colab_type": "code",
        "colab": {}
      },
      "cell_type": "code",
      "source": [
        ""
      ],
      "execution_count": 0,
      "outputs": []
    }
  ]
}